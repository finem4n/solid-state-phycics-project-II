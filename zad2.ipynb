{
 "cells": [
  {
   "cell_type": "code",
   "execution_count": 99,
   "metadata": {},
   "outputs": [],
   "source": [
    "from libka import *\n",
    "from cProfile import label\n",
    "import matplotlib.pyplot as plt\n",
    "import csv\n",
    "import numpy as np\n",
    "import pandas as pd\n",
    "from sympy import *\n",
    "import scipy as sp"
   ]
  },
  {
   "cell_type": "code",
   "execution_count": 100,
   "metadata": {},
   "outputs": [
    {
     "name": "stdout",
     "output_type": "stream",
     "text": [
      "230.00000000000003 nm nadfiolet\n",
      "5.390617277661275 eV\n"
     ]
    }
   ],
   "source": [
    "INDEX = 311730\n",
    "LAMBDA = ((INDEX%6 + 2) * 100 + INDEX%100 ) * 10**(-9)# m\n",
    "H_J = 6.62607004 * 10**(-34) # J*s\n",
    "H_EV = 4.135667662 * 10**(-15) # eV*s\n",
    "M_E = 9.10938356 * 10**(-31) # kg\n",
    "M_E_EV = 0.5109989461 * 10**6 # eV/c^2\n",
    "C = 299792458 # m/s\n",
    "\n",
    "print(LAMBDA * 10**9, \"nm nadfiolet\")\n",
    "E_PHOTON = H_EV * C / LAMBDA\n",
    "print(E_PHOTON, \"eV\")"
   ]
  },
  {
   "cell_type": "code",
   "execution_count": 101,
   "metadata": {},
   "outputs": [
    {
     "name": "stdout",
     "output_type": "stream",
     "text": [
      "0.045308638830637626 eV\n",
      "2.880851218995624e-09\n",
      "28.808512189956243 A\n"
     ]
    }
   ],
   "source": [
    "E_G = 5.3 # eV # to be chosen\n",
    "E_N1 = (E_PHOTON - E_G) / 2 # eV\n",
    "E_N1_J = E_N1 * 1.602176634 * 10**(-19) # J\n",
    "print(E_N1, \"eV\")\n",
    "\n",
    "d = np.sqrt(H_J**2 / (8 * M_E * E_N1_J)) # m szerokość studni\n",
    "print(d)\n",
    "d_A = d * 10**10 # A\n",
    "print(d_A, \"A\")"
   ]
  },
  {
   "cell_type": "code",
   "execution_count": 102,
   "metadata": {},
   "outputs": [
    {
     "name": "stdout",
     "output_type": "stream",
     "text": [
      "28.080000000000002\n"
     ]
    }
   ],
   "source": [
    "lattice = 3.1 # A\n",
    "\n",
    "stosunek = d_A / lattice\n",
    "stosunek\n",
    "\n",
    "print(lattice*9)\n",
    "\n",
    "# procenty okladek i studni\n",
    "# wziac sobie GaN jako okladke\n",
    "# jako studnie wziac to co odpowiada E_G\n",
    "# jak policzyc lambde "
   ]
  },
  {
   "cell_type": "code",
   "execution_count": 103,
   "metadata": {},
   "outputs": [
    {
     "name": "stdout",
     "output_type": "stream",
     "text": [
      "5.395244537447418 eV\n",
      "229.80273929320057 nm\n"
     ]
    }
   ],
   "source": [
    "d2 = 27.9 * 10**(-10) # m\n",
    "EEN = H_J**2 / (8 * M_E * d2**2) # J\n",
    "EEN_EV = EEN * 6.24150974 * 10**18 # eV\n",
    "E_PH2 = 2* EEN_EV + E_G # eV\n",
    "print(E_PH2, \"eV\")\n",
    "lambda2 = H_EV * C / E_PH2\n",
    "\n",
    "print(lambda2 * 10**9, \"nm\")"
   ]
  }
 ],
 "metadata": {
  "kernelspec": {
   "display_name": "Python 3",
   "language": "python",
   "name": "python3"
  },
  "language_info": {
   "codemirror_mode": {
    "name": "ipython",
    "version": 3
   },
   "file_extension": ".py",
   "mimetype": "text/x-python",
   "name": "python",
   "nbconvert_exporter": "python",
   "pygments_lexer": "ipython3",
   "version": "3.11.1"
  },
  "orig_nbformat": 4,
  "vscode": {
   "interpreter": {
    "hash": "e7370f93d1d0cde622a1f8e1c04877d8463912d04d973331ad4851f04de6915a"
   }
  }
 },
 "nbformat": 4,
 "nbformat_minor": 2
}
